{
 "cells": [
  {
   "cell_type": "markdown",
   "id": "8e6b070b",
   "metadata": {
    "papermill": {
     "duration": 0.004549,
     "end_time": "2025-05-25T14:59:58.278967",
     "exception": false,
     "start_time": "2025-05-25T14:59:58.274418",
     "status": "completed"
    },
    "tags": []
   },
   "source": [
    "##  Gerekli Kütüphanelerin İçe Aktarılması\n",
    "\n",
    "Bu hücrede proje boyunca kullanacağımız temel kütüphaneler içe aktarılıyor.  \n",
    "- `pandas` ve `numpy`: Veri işleme için  \n",
    "- `matplotlib` ve `seaborn`: Görselleştirme için  \n",
    "- `sklearn`: Makine öğrenmesi algoritmaları, veri bölme, metrikler vs.  \n",
    "- `re`, `string`: Metin temizleme işlemleri için  \n",
    "- `warnings`: Uyarıları bastırmak için\n"
   ]
  },
  {
   "cell_type": "code",
   "execution_count": 1,
   "id": "4a92b8c5",
   "metadata": {
    "_cell_guid": "b1076dfc-b9ad-4769-8c92-a6c4dae69d19",
    "_uuid": "8f2839f25d086af736a60e9eeb907d3b93b6e0e5",
    "execution": {
     "iopub.execute_input": "2025-05-25T14:59:58.288114Z",
     "iopub.status.busy": "2025-05-25T14:59:58.287755Z",
     "iopub.status.idle": "2025-05-25T15:00:04.041723Z",
     "shell.execute_reply": "2025-05-25T15:00:04.040670Z"
    },
    "papermill": {
     "duration": 5.760679,
     "end_time": "2025-05-25T15:00:04.043626",
     "exception": false,
     "start_time": "2025-05-25T14:59:58.282947",
     "status": "completed"
    },
    "tags": []
   },
   "outputs": [],
   "source": [
    "import pandas as pd\n",
    "import numpy as np\n",
    "import matplotlib.pyplot as plt\n",
    "import seaborn as sns\n",
    "import re\n",
    "import string\n",
    "\n",
    "from sklearn.model_selection import train_test_split, cross_val_score, GridSearchCV\n",
    "from sklearn.feature_extraction.text import TfidfVectorizer\n",
    "from sklearn.linear_model import LogisticRegression\n",
    "from sklearn.tree import DecisionTreeClassifier\n",
    "from sklearn.neighbors import KNeighborsClassifier\n",
    "from sklearn.svm import SVC\n",
    "from sklearn.metrics import classification_report, confusion_matrix, accuracy_score, precision_score, recall_score, f1_score\n",
    "\n",
    "import warnings\n",
    "warnings.filterwarnings(\"ignore\")\n"
   ]
  },
  {
   "cell_type": "markdown",
   "id": "1c8b1613",
   "metadata": {
    "papermill": {
     "duration": 0.003744,
     "end_time": "2025-05-25T15:00:04.051792",
     "exception": false,
     "start_time": "2025-05-25T15:00:04.048048",
     "status": "completed"
    },
    "tags": []
   },
   "source": [
    "## Veri Setinin Yüklenmesi ve İlk İnceleme\n",
    "\n",
    "CSV formatındaki veri Kaggle'dan yükleniyor.  \n",
    "- Sadece `text` ve `label` sütunları kullanılıyor.  \n",
    "- Eksik veriler (`NaN`) temizleniyor.  \n",
    "- Etiketler sayısal hale getiriliyor.\n"
   ]
  },
  {
   "cell_type": "code",
   "execution_count": 2,
   "id": "8bbe0422",
   "metadata": {
    "execution": {
     "iopub.execute_input": "2025-05-25T15:00:04.062434Z",
     "iopub.status.busy": "2025-05-25T15:00:04.061958Z",
     "iopub.status.idle": "2025-05-25T15:00:05.147501Z",
     "shell.execute_reply": "2025-05-25T15:00:05.146062Z"
    },
    "papermill": {
     "duration": 1.093337,
     "end_time": "2025-05-25T15:00:05.149688",
     "exception": false,
     "start_time": "2025-05-25T15:00:04.056351",
     "status": "completed"
    },
    "tags": []
   },
   "outputs": [
    {
     "data": {
      "text/html": [
       "<div>\n",
       "<style scoped>\n",
       "    .dataframe tbody tr th:only-of-type {\n",
       "        vertical-align: middle;\n",
       "    }\n",
       "\n",
       "    .dataframe tbody tr th {\n",
       "        vertical-align: top;\n",
       "    }\n",
       "\n",
       "    .dataframe thead th {\n",
       "        text-align: right;\n",
       "    }\n",
       "</style>\n",
       "<table border=\"1\" class=\"dataframe\">\n",
       "  <thead>\n",
       "    <tr style=\"text-align: right;\">\n",
       "      <th></th>\n",
       "      <th>text</th>\n",
       "      <th>label</th>\n",
       "    </tr>\n",
       "  </thead>\n",
       "  <tbody>\n",
       "    <tr>\n",
       "      <th>0</th>\n",
       "      <td>more tax development both store agreement lawy...</td>\n",
       "      <td>1</td>\n",
       "    </tr>\n",
       "    <tr>\n",
       "      <th>1</th>\n",
       "      <td>probably guess western behind likely next inve...</td>\n",
       "      <td>0</td>\n",
       "    </tr>\n",
       "    <tr>\n",
       "      <th>2</th>\n",
       "      <td>them identify forward present success risk sev...</td>\n",
       "      <td>0</td>\n",
       "    </tr>\n",
       "    <tr>\n",
       "      <th>3</th>\n",
       "      <td>phone which item yard Republican safe where po...</td>\n",
       "      <td>0</td>\n",
       "    </tr>\n",
       "    <tr>\n",
       "      <th>4</th>\n",
       "      <td>wonder myself fact difficult course forget exa...</td>\n",
       "      <td>0</td>\n",
       "    </tr>\n",
       "  </tbody>\n",
       "</table>\n",
       "</div>"
      ],
      "text/plain": [
       "                                                text  label\n",
       "0  more tax development both store agreement lawy...      1\n",
       "1  probably guess western behind likely next inve...      0\n",
       "2  them identify forward present success risk sev...      0\n",
       "3  phone which item yard Republican safe where po...      0\n",
       "4  wonder myself fact difficult course forget exa...      0"
      ]
     },
     "execution_count": 2,
     "metadata": {},
     "output_type": "execute_result"
    }
   ],
   "source": [
    "df = pd.read_csv('/kaggle/input/fake-news-detection-dataset/fake_news_dataset.csv')\n",
    "df = df[['text', 'label']]\n",
    "df.dropna(inplace=True)\n",
    "df = df[df['label'].isin(['real', 'fake'])]  # Sadece real/fake olanlar\n",
    "df['label'] = df['label'].map({'real': 1, 'fake': 0})  # Real = 1, Fake = 0\n",
    "df.reset_index(drop=True, inplace=True)\n",
    "df.head()\n"
   ]
  },
  {
   "cell_type": "markdown",
   "id": "8c5a32f4",
   "metadata": {
    "papermill": {
     "duration": 0.003637,
     "end_time": "2025-05-25T15:00:05.157956",
     "exception": false,
     "start_time": "2025-05-25T15:00:05.154319",
     "status": "completed"
    },
    "tags": []
   },
   "source": [
    "## Etiket Dağılımı Görselleştirmesi\n",
    "\n",
    "Veri setinde `real` ve `fake` haberlerin sayısal dağılımını gösteriyoruz.  \n",
    "Dengesiz veri olup olmadığını gözlemlemek için kullanılır.\n"
   ]
  },
  {
   "cell_type": "code",
   "execution_count": 3,
   "id": "c8d5d6db",
   "metadata": {
    "execution": {
     "iopub.execute_input": "2025-05-25T15:00:05.168870Z",
     "iopub.status.busy": "2025-05-25T15:00:05.168506Z",
     "iopub.status.idle": "2025-05-25T15:00:05.441218Z",
     "shell.execute_reply": "2025-05-25T15:00:05.439876Z"
    },
    "papermill": {
     "duration": 0.280816,
     "end_time": "2025-05-25T15:00:05.443161",
     "exception": false,
     "start_time": "2025-05-25T15:00:05.162345",
     "status": "completed"
    },
    "tags": []
   },
   "outputs": [
    {
     "data": {
      "image/png": "[encoded data removed]",
      "text/plain": [
       "<Figure size 640x480 with 1 Axes>"
      ]
     },
     "metadata": {},
     "output_type": "display_data"
    }
   ],
   "source": [
    "sns.countplot(data=df, x='label')\n",
    "plt.xticks([0, 1], ['Fake', 'Real'])\n",
    "plt.title('Etiket Dağılımı')\n",
    "plt.xlabel('Label')\n",
    "plt.ylabel('Adet')\n",
    "plt.show()\n"
   ]
  },
  {
   "cell_type": "markdown",
   "id": "5f26a70d",
   "metadata": {
    "papermill": {
     "duration": 0.004416,
     "end_time": "2025-05-25T15:00:05.454363",
     "exception": false,
     "start_time": "2025-05-25T15:00:05.449947",
     "status": "completed"
    },
    "tags": []
   },
   "source": [
    "## Metin Temizleme Fonksiyonu\n",
    "\n",
    "Metinleri daha analiz edilebilir hale getirmek için:\n",
    "- Küçük harfe çeviriyoruz   \n",
    "- Sayılar, noktalama işaretleri gibi gereksiz karakterleri siliyoruz\n"
   ]
  },
  {
   "cell_type": "code",
   "execution_count": 4,
   "id": "79c45098",
   "metadata": {
    "execution": {
     "iopub.execute_input": "2025-05-25T15:00:05.465355Z",
     "iopub.status.busy": "2025-05-25T15:00:05.464995Z",
     "iopub.status.idle": "2025-05-25T15:00:07.565202Z",
     "shell.execute_reply": "2025-05-25T15:00:07.564178Z"
    },
    "papermill": {
     "duration": 2.108076,
     "end_time": "2025-05-25T15:00:07.566875",
     "exception": false,
     "start_time": "2025-05-25T15:00:05.458799",
     "status": "completed"
    },
    "tags": []
   },
   "outputs": [
    {
     "data": {
      "text/html": [
       "<div>\n",
       "<style scoped>\n",
       "    .dataframe tbody tr th:only-of-type {\n",
       "        vertical-align: middle;\n",
       "    }\n",
       "\n",
       "    .dataframe tbody tr th {\n",
       "        vertical-align: top;\n",
       "    }\n",
       "\n",
       "    .dataframe thead th {\n",
       "        text-align: right;\n",
       "    }\n",
       "</style>\n",
       "<table border=\"1\" class=\"dataframe\">\n",
       "  <thead>\n",
       "    <tr style=\"text-align: right;\">\n",
       "      <th></th>\n",
       "      <th>clean_text</th>\n",
       "      <th>label</th>\n",
       "    </tr>\n",
       "  </thead>\n",
       "  <tbody>\n",
       "    <tr>\n",
       "      <th>0</th>\n",
       "      <td>more tax development both store agreement lawy...</td>\n",
       "      <td>1</td>\n",
       "    </tr>\n",
       "    <tr>\n",
       "      <th>1</th>\n",
       "      <td>probably guess western behind likely next inve...</td>\n",
       "      <td>0</td>\n",
       "    </tr>\n",
       "    <tr>\n",
       "      <th>2</th>\n",
       "      <td>them identify forward present success risk sev...</td>\n",
       "      <td>0</td>\n",
       "    </tr>\n",
       "    <tr>\n",
       "      <th>3</th>\n",
       "      <td>phone which item yard republican safe where po...</td>\n",
       "      <td>0</td>\n",
       "    </tr>\n",
       "    <tr>\n",
       "      <th>4</th>\n",
       "      <td>wonder myself fact difficult course forget exa...</td>\n",
       "      <td>0</td>\n",
       "    </tr>\n",
       "  </tbody>\n",
       "</table>\n",
       "</div>"
      ],
      "text/plain": [
       "                                          clean_text  label\n",
       "0  more tax development both store agreement lawy...      1\n",
       "1  probably guess western behind likely next inve...      0\n",
       "2  them identify forward present success risk sev...      0\n",
       "3  phone which item yard republican safe where po...      0\n",
       "4  wonder myself fact difficult course forget exa...      0"
      ]
     },
     "execution_count": 4,
     "metadata": {},
     "output_type": "execute_result"
    }
   ],
   "source": [
    "def clean_text(text):\n",
    "    text = str(text).lower()\n",
    "    text = re.sub(r'https?://\\S+|www\\.\\S+', '', text)\n",
    "    text = re.sub(r'[^a-zA-Z]', ' ', text)\n",
    "    text = text.translate(str.maketrans('', '', string.punctuation))\n",
    "    return text\n",
    "\n",
    "df['clean_text'] = df['text'].apply(clean_text)\n",
    "df[['clean_text', 'label']].head()\n"
   ]
  },
  {
   "cell_type": "markdown",
   "id": "cd8cb479",
   "metadata": {
    "papermill": {
     "duration": 0.004132,
     "end_time": "2025-05-25T15:00:07.575769",
     "exception": false,
     "start_time": "2025-05-25T15:00:07.571637",
     "status": "completed"
    },
    "tags": []
   },
   "source": [
    "##  Metin Uzunluğu Analizi\n",
    "\n",
    "Her haberin kelime sayısını hesaplayarak dağılımını analiz ediyoruz.  \n",
    "Bu, sahte haberler ile gerçek haberlerin uzunluk açısından farklarını görmeyi sağlar.\n"
   ]
  },
  {
   "cell_type": "code",
   "execution_count": 5,
   "id": "d6696492",
   "metadata": {
    "execution": {
     "iopub.execute_input": "2025-05-25T15:00:07.585762Z",
     "iopub.status.busy": "2025-05-25T15:00:07.585422Z",
     "iopub.status.idle": "2025-05-25T15:00:08.465973Z",
     "shell.execute_reply": "2025-05-25T15:00:08.464909Z"
    },
    "papermill": {
     "duration": 0.887617,
     "end_time": "2025-05-25T15:00:08.467670",
     "exception": false,
     "start_time": "2025-05-25T15:00:07.580053",
     "status": "completed"
    },
    "tags": []
   },
   "outputs": [
    {
     "data": {
      "image/png": "[encoded data removed]",
      "text/plain": [
       "<Figure size 640x480 with 1 Axes>"
      ]
     },
     "metadata": {},
     "output_type": "display_data"
    }
   ],
   "source": [
    "df['text_length'] = df['clean_text'].apply(lambda x: len(x.split()))\n",
    "sns.histplot(data=df, x='text_length', hue='label', bins=50, kde=True)\n",
    "plt.title('Metin Uzunluğu Dağılımı')\n",
    "plt.show()\n"
   ]
  },
  {
   "cell_type": "markdown",
   "id": "f3ad4f63",
   "metadata": {
    "papermill": {
     "duration": 0.004695,
     "end_time": "2025-05-25T15:00:08.477771",
     "exception": false,
     "start_time": "2025-05-25T15:00:08.473076",
     "status": "completed"
    },
    "tags": []
   },
   "source": [
    "## TF-IDF ile Özellik Çıkartma\n",
    "\n",
    "Metinleri sayısal verilere dönüştürmek için TF-IDF kullanıyoruz.  \n",
    "Her kelimenin belgedeki göreceli önemini belirleyerek 3000 özellik çıkarılıyor.\n"
   ]
  },
  {
   "cell_type": "code",
   "execution_count": 6,
   "id": "d20696b2",
   "metadata": {
    "execution": {
     "iopub.execute_input": "2025-05-25T15:00:08.489999Z",
     "iopub.status.busy": "2025-05-25T15:00:08.489668Z",
     "iopub.status.idle": "2025-05-25T15:00:12.775224Z",
     "shell.execute_reply": "2025-05-25T15:00:12.774213Z"
    },
    "papermill": {
     "duration": 4.293971,
     "end_time": "2025-05-25T15:00:12.777119",
     "exception": false,
     "start_time": "2025-05-25T15:00:08.483148",
     "status": "completed"
    },
    "tags": []
   },
   "outputs": [],
   "source": [
    "vectorizer = TfidfVectorizer(max_features=3000)\n",
    "X = vectorizer.fit_transform(df['clean_text']).toarray()\n",
    "y = df['label'].values\n"
   ]
  },
  {
   "cell_type": "markdown",
   "id": "d3c4fdc1",
   "metadata": {
    "papermill": {
     "duration": 0.00485,
     "end_time": "2025-05-25T15:00:12.787269",
     "exception": false,
     "start_time": "2025-05-25T15:00:12.782419",
     "status": "completed"
    },
    "tags": []
   },
   "source": [
    "## Eğitim ve Test Verisine Ayırma\n",
    "\n",
    "Veri seti %80 eğitim, %20 test olarak ayrılıyor.  \n",
    "`stratify=y` ile sınıf oranları korunuyor.\n"
   ]
  },
  {
   "cell_type": "code",
   "execution_count": 7,
   "id": "c9950aa9",
   "metadata": {
    "execution": {
     "iopub.execute_input": "2025-05-25T15:00:12.798672Z",
     "iopub.status.busy": "2025-05-25T15:00:12.798378Z",
     "iopub.status.idle": "2025-05-25T15:00:12.878164Z",
     "shell.execute_reply": "2025-05-25T15:00:12.877117Z"
    },
    "papermill": {
     "duration": 0.087476,
     "end_time": "2025-05-25T15:00:12.879801",
     "exception": false,
     "start_time": "2025-05-25T15:00:12.792325",
     "status": "completed"
    },
    "tags": []
   },
   "outputs": [
    {
     "name": "stdout",
     "output_type": "stream",
     "text": [
      "Eğitim verisi boyutu: (16000, 969)\n",
      "Test verisi boyutu: (4000, 969)\n"
     ]
    }
   ],
   "source": [
    "X_train, X_test, y_train, y_test = train_test_split(\n",
    "    X, y, test_size=0.2, random_state=42, stratify=y\n",
    ")\n",
    "print(f\"Eğitim verisi boyutu: {X_train.shape}\")\n",
    "print(f\"Test verisi boyutu: {X_test.shape}\")\n"
   ]
  },
  {
   "cell_type": "markdown",
   "id": "b86a60e7",
   "metadata": {
    "papermill": {
     "duration": 0.006523,
     "end_time": "2025-05-25T15:00:12.892726",
     "exception": false,
     "start_time": "2025-05-25T15:00:12.886203",
     "status": "completed"
    },
    "tags": []
   },
   "source": [
    "## Lojistik Regresyon Modelinin Eğitilmesi\n",
    "\n",
    "Gözetimli öğrenme algoritmalarından Lojistik Regresyon kullanılarak model eğitiliyor.  \n",
    "Model test verisi üzerinde tahmin yapıyor.\n"
   ]
  },
  {
   "cell_type": "code",
   "execution_count": 8,
   "id": "bc17e850",
   "metadata": {
    "execution": {
     "iopub.execute_input": "2025-05-25T15:00:12.905766Z",
     "iopub.status.busy": "2025-05-25T15:00:12.905114Z",
     "iopub.status.idle": "2025-05-25T15:00:13.743436Z",
     "shell.execute_reply": "2025-05-25T15:00:13.742325Z"
    },
    "papermill": {
     "duration": 0.849502,
     "end_time": "2025-05-25T15:00:13.748118",
     "exception": false,
     "start_time": "2025-05-25T15:00:12.898616",
     "status": "completed"
    },
    "tags": []
   },
   "outputs": [
    {
     "name": "stdout",
     "output_type": "stream",
     "text": [
      "Lojistik Regresyon Doğruluk: 0.50825\n"
     ]
    }
   ],
   "source": [
    "lr = LogisticRegression()\n",
    "lr.fit(X_train, y_train)\n",
    "y_pred_lr = lr.predict(X_test)\n",
    "print(\"Lojistik Regresyon Doğruluk:\", accuracy_score(y_test, y_pred_lr))\n"
   ]
  },
  {
   "cell_type": "markdown",
   "id": "e7325f11",
   "metadata": {
    "papermill": {
     "duration": 0.009484,
     "end_time": "2025-05-25T15:00:13.773797",
     "exception": false,
     "start_time": "2025-05-25T15:00:13.764313",
     "status": "completed"
    },
    "tags": []
   },
   "source": [
    "## 5-Fold Çapraz Doğrulama\n",
    "\n",
    "Modelin farklı veri alt kümelerinde tutarlı performans gösterip göstermediğini kontrol etmek için çapraz doğrulama uygulanıyor.\n"
   ]
  },
  {
   "cell_type": "code",
   "execution_count": 9,
   "id": "fce16b3e",
   "metadata": {
    "execution": {
     "iopub.execute_input": "2025-05-25T15:00:13.795352Z",
     "iopub.status.busy": "2025-05-25T15:00:13.792829Z",
     "iopub.status.idle": "2025-05-25T15:00:17.639356Z",
     "shell.execute_reply": "2025-05-25T15:00:17.634180Z"
    },
    "papermill": {
     "duration": 3.861217,
     "end_time": "2025-05-25T15:00:17.644502",
     "exception": false,
     "start_time": "2025-05-25T15:00:13.783285",
     "status": "completed"
    },
    "tags": []
   },
   "outputs": [
    {
     "name": "stdout",
     "output_type": "stream",
     "text": [
      "Çapraz Doğrulama Doğruluk Ortalaması: 0.5126875\n"
     ]
    }
   ],
   "source": [
    "cv_scores = cross_val_score(lr, X_train, y_train, cv=5)\n",
    "print(\"Çapraz Doğrulama Doğruluk Ortalaması:\", cv_scores.mean())\n"
   ]
  },
  {
   "cell_type": "markdown",
   "id": "4336d865",
   "metadata": {
    "papermill": {
     "duration": 0.011275,
     "end_time": "2025-05-25T15:00:17.691484",
     "exception": false,
     "start_time": "2025-05-25T15:00:17.680209",
     "status": "completed"
    },
    "tags": []
   },
   "source": [
    "## Hiperparametre Ayarlaması (GridSearchCV)\n",
    "\n",
    "Modelin başarımını artırmak için `C` hiperparametresi test edilerek en iyi değer belirleniyor.\n"
   ]
  },
  {
   "cell_type": "code",
   "execution_count": 10,
   "id": "1f15f780",
   "metadata": {
    "execution": {
     "iopub.execute_input": "2025-05-25T15:00:17.711731Z",
     "iopub.status.busy": "2025-05-25T15:00:17.709663Z",
     "iopub.status.idle": "2025-05-25T15:00:26.470815Z",
     "shell.execute_reply": "2025-05-25T15:00:26.469888Z"
    },
    "papermill": {
     "duration": 8.774962,
     "end_time": "2025-05-25T15:00:26.477292",
     "exception": false,
     "start_time": "2025-05-25T15:00:17.702330",
     "status": "completed"
    },
    "tags": []
   },
   "outputs": [
    {
     "name": "stdout",
     "output_type": "stream",
     "text": [
      "En iyi parametreler: {'C': 0.01}\n"
     ]
    }
   ],
   "source": [
    "param_grid = {'C': [0.01, 0.1, 1, 10]}\n",
    "grid = GridSearchCV(LogisticRegression(), param_grid, cv=5)\n",
    "grid.fit(X_train, y_train)\n",
    "print(\"En iyi parametreler:\", grid.best_params_)\n"
   ]
  },
  {
   "cell_type": "markdown",
   "id": "57deef06",
   "metadata": {
    "papermill": {
     "duration": 0.011556,
     "end_time": "2025-05-25T15:00:26.516146",
     "exception": false,
     "start_time": "2025-05-25T15:00:26.504590",
     "status": "completed"
    },
    "tags": []
   },
   "source": [
    "## Nihai Modelin Değerlendirilmesi\n",
    "\n",
    "En iyi model ile test verisi üzerinde tahmin yapılır.  \n",
    "Doğruluk, precision, recall, F1 gibi metrikler hesaplanır.  \n",
    "Karışıklık matrisi ile doğru/yanlış sınıflamalar görselleştirilir.\n"
   ]
  },
  {
   "cell_type": "code",
   "execution_count": 11,
   "id": "e84f8746",
   "metadata": {
    "execution": {
     "iopub.execute_input": "2025-05-25T15:00:26.542622Z",
     "iopub.status.busy": "2025-05-25T15:00:26.542261Z",
     "iopub.status.idle": "2025-05-25T15:00:26.772112Z",
     "shell.execute_reply": "2025-05-25T15:00:26.770987Z"
    },
    "papermill": {
     "duration": 0.244969,
     "end_time": "2025-05-25T15:00:26.774735",
     "exception": false,
     "start_time": "2025-05-25T15:00:26.529766",
     "status": "completed"
    },
    "tags": []
   },
   "outputs": [
    {
     "name": "stdout",
     "output_type": "stream",
     "text": [
      "Doğruluk: 0.4995\n",
      "Precision: 0.4934804413239719\n",
      "Recall: 0.2473604826546003\n",
      "F1 Score: 0.3295378432685867\n"
     ]
    },
    {
     "data": {
      "image/png": "[encoded data removed]",
      "text/plain": [
       "<Figure size 640x480 with 2 Axes>"
      ]
     },
     "metadata": {},
     "output_type": "display_data"
    }
   ],
   "source": [
    "best_model = grid.best_estimator_\n",
    "y_pred = best_model.predict(X_test)\n",
    "\n",
    "print(\"Doğruluk:\", accuracy_score(y_test, y_pred))\n",
    "print(\"Precision:\", precision_score(y_test, y_pred))\n",
    "print(\"Recall:\", recall_score(y_test, y_pred))\n",
    "print(\"F1 Score:\", f1_score(y_test, y_pred))\n",
    "\n",
    "cm = confusion_matrix(y_test, y_pred)\n",
    "sns.heatmap(cm, annot=True, fmt='d', cmap='Blues')\n",
    "plt.title(\"Karışıklık Matrisi\")\n",
    "plt.xlabel(\"Tahmin\")\n",
    "plt.ylabel(\"Gerçek\")\n",
    "plt.show()\n"
   ]
  }
 ],
 "metadata": {
  "kaggle": {
   "accelerator": "none",
   "dataSources": [
    {
     "datasetId": 7266777,
     "sourceId": 11589020,
     "sourceType": "datasetVersion"
    }
   ],
   "dockerImageVersionId": 31040,
   "isGpuEnabled": false,
   "isInternetEnabled": true,
   "language": "python",
   "sourceType": "notebook"
  },
  "kernelspec": {
   "display_name": "Python 3",
   "language": "python",
   "name": "python3"
  },
  "language_info": {
   "codemirror_mode": {
    "name": "ipython",
    "version": 3
   },
   "file_extension": ".py",
   "mimetype": "text/x-python",
   "name": "python",
   "nbconvert_exporter": "python",
   "pygments_lexer": "ipython3",
   "version": "3.11.11"
  },
  "papermill": {
   "default_parameters": {},
   "duration": 34.404728,
   "end_time": "2025-05-25T15:00:27.608891",
   "environment_variables": {},
   "exception": null,
   "input_path": "__notebook__.ipynb",
   "output_path": "__notebook__.ipynb",
   "parameters": {},
   "start_time": "2025-05-25T14:59:53.204163",
   "version": "2.6.0"
  }
 },
 "nbformat": 4,
 "nbformat_minor": 5
}
